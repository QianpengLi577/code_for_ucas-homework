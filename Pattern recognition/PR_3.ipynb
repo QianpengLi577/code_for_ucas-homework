{
 "cells": [
  {
   "cell_type": "code",
   "execution_count": 1,
   "metadata": {},
   "outputs": [],
   "source": [
    "import matplotlib.pyplot as plt\n",
    "import numpy as np\n",
    "\n",
    "#函数定义\n",
    "def train_lr(iter_max, theta, eta, a, y):\n",
    "    i = 0\n",
    "    for i in range(iter_max):\n",
    "        result = a.dot(y)\n",
    "        sum_y = np.array([0, 0, 0])\n",
    "        if (len(np.argwhere(result <= 0)) > 0):\n",
    "            for j in range(len(np.argwhere(result <= 0))):\n",
    "                sum_y = sum_y + eta * y[:, np.argwhere(result <= 0)[j][0]]\n",
    "        else:\n",
    "            break\n",
    "        if (abs(np.sum(sum_y)) < theta):\n",
    "            break\n",
    "        else:\n",
    "            a = a + sum_y\n",
    "    return (i+1, a)\n",
    "\n",
    "\n",
    "def train_hk(iter_max, eta, a, b, y):\n",
    "    a = a.reshape((3, 1))\n",
    "    i = 0\n",
    "    for i in range(iter_max):\n",
    "        e = y.dot(a) - b\n",
    "        e1 = 0.5 * (e + np.abs(e))\n",
    "        b = b + 2 * eta * e1\n",
    "        a = np.linalg.pinv(y).dot(b)\n",
    "        if (abs(e).max() <= b.min()):\n",
    "            break\n",
    "    print('acc:', 1 - len(np.argwhere(y.dot(a) < 0)) / y.shape[0])\n",
    "    print('e:')\n",
    "    print(y.dot(a) - b)\n",
    "    # print('b:')\n",
    "    # print(b)\n",
    "    return (i+1, a)"
   ]
  },
  {
   "cell_type": "code",
   "execution_count": 2,
   "metadata": {
    "pycharm": {
     "name": "#%%\n"
    }
   },
   "outputs": [],
   "source": [
    "y1 = np.array([[0.1, 6.8, -3.5, 2.0, 4.1, 3.1, -0.8, 0.9, 5.0, 3.9],\n",
    "               [1.1, 7.1, -4.1, 2.7, 2.8, 5.0, -1.3, 1.2, 6.4, 4.0],\n",
    "               [1, 1, 1, 1, 1, 1, 1, 1, 1, 1]])\n",
    "y2 = np.array([[7.1, -1.4, 4.5, 6.3, 4.2, 1.4, 2.4, 2.5, 8.4, 4.1],\n",
    "               [4.2, -4.3, 0.0, 1.6, 1.9, -3.2, -4.0, -6.1, 3.7, -2.2],\n",
    "               [1, 1, 1, 1, 1, 1, 1, 1, 1, 1]])\n",
    "y3 = np.array([[-3.0, 0.5, 2.9, -0.1, -4.0, -1.3, -3.4, -4.1, -5.1, 1.9],\n",
    "               [-2.9, 8.7, 2.1, 5.2, 2.2, 3.7, 6.2, 3.4, 1.6, 5.1],\n",
    "               [1, 1, 1, 1, 1, 1, 1, 1, 1, 1]])\n",
    "y4 = np.array([[-2.0, -8.9, -4.2, -8.5, -6.7, -0.5, -5.3, -8.7, -7.1, -8.0],\n",
    "               [-8.4, 0.2, -7.7, -3.2, -4.0, -9.2, -6.7, -6.4, -9.7, -6.3],\n",
    "               [1, 1, 1, 1, 1, 1, 1, 1, 1, 1]])\n",
    "#获得规范化样本\n"
   ]
  },
  {
   "cell_type": "code",
   "execution_count": 3,
   "metadata": {
    "pycharm": {
     "name": "#%%\n"
    }
   },
   "outputs": [
    {
     "name": "stdout",
     "output_type": "stream",
     "text": [
      "w1与w2分类迭代次数： 24\n",
      "w3与w2分类迭代次数： 17\n"
     ]
    }
   ],
   "source": [
    "\n",
    "######################################################\n",
    "###################   问题1    ########################\n",
    "######################################################\n",
    "a11 = np.array([0, 0, 0])\n",
    "a12 = np.array([0, 0, 0])\n",
    "\n",
    "y_11 = np.concatenate([y1, -y2], axis=1)\n",
    "y_12 = np.concatenate([y3, -y2], axis=1)\n",
    "\n",
    "iter_11, a11 = train_lr(1000, 0.00001, 0.001, a11, y_11)\n",
    "iter_12, a12 = train_lr(1000, 0.00001, 0.001, a12, y_12)\n",
    "print('w1与w2分类迭代次数：', iter_11)\n",
    "print('w3与w2分类迭代次数：', iter_12)"
   ]
  },
  {
   "cell_type": "code",
   "execution_count": 4,
   "metadata": {
    "pycharm": {
     "name": "#%%\n"
    }
   },
   "outputs": [
    {
     "name": "stdout",
     "output_type": "stream",
     "text": [
      "acc: 0.85\n",
      "e:\n",
      "[[-3.83417001e-01]\n",
      " [-1.49184173e-01]\n",
      " [-5.65745479e-01]\n",
      " [-1.78122712e-02]\n",
      " [-1.92845053e-01]\n",
      " [-7.18926724e-02]\n",
      " [-9.33265232e-03]\n",
      " [-1.57615956e-01]\n",
      " [-5.68106756e-02]\n",
      " [ 0.00000000e+00]\n",
      " [-6.63432043e-01]\n",
      " [ 4.44089210e-16]\n",
      " [-7.42253796e-01]\n",
      " [ 2.22044605e-16]\n",
      " [ 4.44089210e-16]\n",
      " [ 2.22044605e-16]\n",
      " [ 4.44089210e-16]\n",
      " [ 4.44089210e-16]\n",
      " [ 4.44089210e-16]\n",
      " [-1.98970094e-01]]\n",
      "w1与w3分类迭代次数： 10000\n"
     ]
    },
    {
     "data": {
      "image/png": "[encoded data removed]",
      "text/plain": [
       "<Figure size 432x288 with 1 Axes>"
      ]
     },
     "metadata": {
      "needs_background": "light"
     },
     "output_type": "display_data"
    },
    {
     "name": "stdout",
     "output_type": "stream",
     "text": [
      "acc: 1.0\n",
      "e:\n",
      "[[ 0.01228558]\n",
      " [-0.32853785]\n",
      " [ 0.00828874]\n",
      " [ 0.01031623]\n",
      " [ 0.00917616]\n",
      " [ 0.00454559]\n",
      " [ 0.00471684]\n",
      " [ 0.00359158]\n",
      " [ 0.01281359]\n",
      " [ 0.00679508]\n",
      " [ 0.00051573]\n",
      " [-0.09596537]\n",
      " [ 0.00149195]\n",
      " [ 0.00162886]\n",
      " [ 0.00095866]\n",
      " [-0.17094952]\n",
      " [-0.004754  ]\n",
      " [ 0.00356332]\n",
      " [ 0.00443171]\n",
      " [ 0.00307019]]\n",
      "w2与w4分类迭代次数： 599\n"
     ]
    },
    {
     "data": {
      "image/png": "[encoded data removed]",
      "text/plain": [
       "<Figure size 432x288 with 1 Axes>"
      ]
     },
     "metadata": {
      "needs_background": "light"
     },
     "output_type": "display_data"
    }
   ],
   "source": [
    "######################################################\n",
    "###################   问题2    ########################\n",
    "######################################################\n",
    "y_21 = np.concatenate([y1, -y3], axis=1).T\n",
    "y_22 = np.concatenate([y2, -y4], axis=1).T\n",
    "\n",
    "a_21 = np.array([0, 0, 0])\n",
    "a_22 = np.array([0, 0, 0])\n",
    "\n",
    "b_21 = np.random.rand(y_21.shape[0], 1)\n",
    "b_22 = np.random.rand(y_22.shape[0], 1)\n",
    "\n",
    "iter_21, a_21 = train_hk(10000, 0.1, a_21, b_21, y_21)\n",
    "print('w1与w3分类迭代次数：', iter_21)\n",
    "\n",
    "\n",
    "plt.title('w1-w3')\n",
    "plt.scatter(y1[0, :], y1[1, :], c='red')\n",
    "plt.scatter(y3[0, :], y3[1, :], c='blue')\n",
    "plt.show()\n",
    "\n",
    "iter_22, a_22 = train_hk(10000, 0.1, a_22, b_22, y_22)\n",
    "print('w2与w4分类迭代次数：', iter_22)\n",
    "\n",
    "plt.title('w2-w4')\n",
    "plt.scatter(y2[0, :], y2[1, :], c='red')\n",
    "plt.scatter(y4[0, :], y4[1, :], c='blue')\n",
    "plt.show()"
   ]
  },
  {
   "cell_type": "code",
   "execution_count": 5,
   "metadata": {
    "pycharm": {
     "name": "#%%\n"
    }
   },
   "outputs": [
    {
     "name": "stdout",
     "output_type": "stream",
     "text": [
      "acc: 1.0\n",
      "finsh\n"
     ]
    }
   ],
   "source": [
    "######################################################\n",
    "###################   问题3    ########################\n",
    "######################################################\n",
    "X12 = np.concatenate([y1[:, 0:8], y2[:, 0:8]], axis=1)\n",
    "X34 = np.concatenate([y3[:, 0:8], y4[:, 0:8]], axis=1)\n",
    "X = np.concatenate([X12, X34], axis=1)\n",
    "\n",
    "Y12 = np.concatenate([y1[:, 8:10], y2[:, 8:10]], axis=1)\n",
    "Y34 = np.concatenate([y3[:, 8:10], y4[:, 8:10]], axis=1)\n",
    "Y = np.concatenate([Y12, Y34], axis=1)\n",
    "\n",
    "y=np.zeros((4,4*8))\n",
    "for i in range (4):\n",
    "    for j in range(8):\n",
    "        y[i,8*i+j]=1\n",
    "\n",
    "yp=np.zeros((4,4*2))\n",
    "for i in range (4):\n",
    "    for j in range(2):\n",
    "        yp[i,2*i+j]=1\n",
    "\n",
    "la=0.0000005\n",
    "W=np.linalg.inv(X.dot(X.T)+la*np.eye(3)).dot(X).dot(y.T)\n",
    "y_p=np.argmax(np.dot(W.T,Y),axis=0)\n",
    "yp=np.argmax(yp,axis=0)\n",
    "sum=0\n",
    "for i in range(len(y_p)):\n",
    "    if(y_p[i]==yp[i]):\n",
    "        sum+=1\n",
    "print('acc:',sum/len(yp))\n",
    "print('finsh')\n",
    "\n",
    "\n"
   ]
  }
 ],
 "metadata": {
  "kernelspec": {
   "display_name": "Python 3",
   "language": "python",
   "name": "python3"
  },
  "language_info": {
   "codemirror_mode": {
    "name": "ipython",
    "version": 3
   },
   "file_extension": ".py",
   "mimetype": "text/x-python",
   "name": "python",
   "nbconvert_exporter": "python",
   "pygments_lexer": "ipython3",
   "version": "3.7.0"
  }
 },
 "nbformat": 4,
 "nbformat_minor": 1
}
